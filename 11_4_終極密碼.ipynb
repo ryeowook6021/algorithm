{
  "nbformat": 4,
  "nbformat_minor": 0,
  "metadata": {
    "colab": {
      "name": "11/4 終極密碼.ipynb",
      "provenance": [],
      "authorship_tag": "ABX9TyNVtIU2rlpS+f6+7M0POcN8",
      "include_colab_link": true
    },
    "kernelspec": {
      "name": "python3",
      "display_name": "Python 3"
    }
  },
  "cells": [
    {
      "cell_type": "markdown",
      "metadata": {
        "id": "view-in-github",
        "colab_type": "text"
      },
      "source": [
        "<a href=\"https://colab.research.google.com/github/ryeowook6021/algorithm/blob/master/11_4_%E7%B5%82%E6%A5%B5%E5%AF%86%E7%A2%BC.ipynb\" target=\"_parent\"><img src=\"https://colab.research.google.com/assets/colab-badge.svg\" alt=\"Open In Colab\"/></a>"
      ]
    },
    {
      "cell_type": "code",
      "metadata": {
        "id": "sDDWhCLVHb3y",
        "outputId": "e144c06f-18b4-41a2-caaa-cf9a7b10b67e",
        "colab": {
          "base_uri": "https://localhost:8080/"
        }
      },
      "source": [
        "import random\n",
        "c=random.randint(1,100)\n",
        "\n",
        "a=1\n",
        "b=100\n",
        "print(\"密碼介於\",a,\"-\",b)\n",
        "userinput=int(input())\n",
        "while True:\n",
        "  if userinput<a or userinput>b:\n",
        "    print(\"請輸入\",a,\"-\",b,\"之間的整數\")\n",
        "\n",
        "  if userinput>c and userinput<b:\n",
        "    b=userinput\n",
        "  elif userinput<c and userinput>a :\n",
        "    a=userinput\n",
        "  \n",
        "  if userinput==c:\n",
        "    print(\"答對了\")\n",
        "    break\n",
        "  else:\n",
        "    print(\"密碼介於\",a,\"-\",b)\n",
        "    userinput=int(input())"
      ],
      "execution_count": 14,
      "outputs": [
        {
          "output_type": "stream",
          "text": [
            "69\n",
            "密碼介於 1 - 100\n",
            "70\n",
            "密碼介於 1 - 70\n",
            "65\n",
            "密碼介於 65 - 70\n",
            "45\n",
            "請輸入 65 - 70 之間的整數\n",
            "密碼介於 65 - 70\n",
            "98\n",
            "請輸入 65 - 70 之間的整數\n",
            "密碼介於 65 - 70\n",
            "69\n",
            "答對了\n"
          ],
          "name": "stdout"
        }
      ]
    }
  ]
}