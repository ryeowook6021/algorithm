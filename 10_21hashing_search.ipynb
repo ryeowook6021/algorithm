{
  "nbformat": 4,
  "nbformat_minor": 0,
  "metadata": {
    "colab": {
      "name": "10/21hashing search ",
      "provenance": [],
      "authorship_tag": "ABX9TyPMYJ3zRsTZ6asuVKoHY+2+",
      "include_colab_link": true
    },
    "kernelspec": {
      "name": "python3",
      "display_name": "Python 3"
    }
  },
  "cells": [
    {
      "cell_type": "markdown",
      "metadata": {
        "id": "view-in-github",
        "colab_type": "text"
      },
      "source": [
        "<a href=\"https://colab.research.google.com/github/ryeowook6021/algorithm/blob/master/10_21hashing_search.ipynb\" target=\"_parent\"><img src=\"https://colab.research.google.com/assets/colab-badge.svg\" alt=\"Open In Colab\"/></a>"
      ]
    },
    {
      "cell_type": "markdown",
      "metadata": {
        "id": "iMMNjPNaD3at"
      },
      "source": [
        "線性探測法"
      ]
    },
    {
      "cell_type": "code",
      "metadata": {
        "id": "ci9SlVkZBI0l",
        "outputId": "86129894-813c-4970-8880-41299ce3ecf4",
        "colab": {
          "base_uri": "https://localhost:8080/",
          "height": 217
        }
      },
      "source": [
        "import random\n",
        "\n",
        "INDEXBOX=10\n",
        "MAXNUM=7\n",
        "\n",
        "def print_data(data,max_number):\n",
        "  print(\"\\t\",end=\"\")\n",
        "  for i in range(max_number):\n",
        "    print(\"[%2d]\"%data[i],end=\"\")\n",
        "  print()\n",
        "\n",
        "def create_table(num,index):\n",
        "  tmp=num%INDEXBOX\n",
        "  while True:\n",
        "    if index[tmp]==-1:\n",
        "      index[tmp]=num\n",
        "      break\n",
        "    else:\n",
        "      tmp=(tmp+1)%INDEXBOX\n",
        "#Main\n",
        "index=[None]*INDEXBOX\n",
        "data=[None]*MAXNUM\n",
        "\n",
        "print('原始陣列值')\n",
        "for i in range(MAXNUM):\n",
        "  data[i]=random.randint(1,20)\n",
        "for i in range(INDEXBOX):\n",
        "  index[i]=-1\n",
        "print_data(data,MAXNUM)\n",
        "print('雜湊表內容')\n",
        "for i in range(MAXNUM):\n",
        "    create_table(data[i],index)\n",
        "    print('%2d=>'%data[i],end='')\n",
        "    print_data(index,INDEXBOX)\n",
        "print('完成雜湊表')\n",
        "print_data(index,INDEXBOX)\n"
      ],
      "execution_count": 4,
      "outputs": [
        {
          "output_type": "stream",
          "text": [
            "原始陣列值\n",
            "\t[18][ 6][ 2][16][ 9][ 5][11]\n",
            "雜湊表內容\n",
            "18=>\t[-1][-1][-1][-1][-1][-1][-1][-1][18][-1]\n",
            " 6=>\t[-1][-1][-1][-1][-1][-1][ 6][-1][18][-1]\n",
            " 2=>\t[-1][-1][ 2][-1][-1][-1][ 6][-1][18][-1]\n",
            "16=>\t[-1][-1][ 2][-1][-1][-1][ 6][16][18][-1]\n",
            " 9=>\t[-1][-1][ 2][-1][-1][-1][ 6][16][18][ 9]\n",
            " 5=>\t[-1][-1][ 2][-1][-1][ 5][ 6][16][18][ 9]\n",
            "11=>\t[-1][11][ 2][-1][-1][ 5][ 6][16][18][ 9]\n",
            "完成雜湊表\n",
            "\t[-1][11][ 2][-1][-1][ 5][ 6][16][18][ 9]\n"
          ],
          "name": "stdout"
        }
      ]
    },
    {
      "cell_type": "markdown",
      "metadata": {
        "id": "84ngpSnHEHZ6"
      },
      "source": [
        "平方探測"
      ]
    },
    {
      "cell_type": "code",
      "metadata": {
        "id": "SVLNXodFEF-T",
        "outputId": "edb680b2-d280-49e3-ff8b-248209e8830a",
        "colab": {
          "base_uri": "https://localhost:8080/",
          "height": 217
        }
      },
      "source": [
        "import random\n",
        "\n",
        "INDEXBOX=10\n",
        "MAXNUM=7\n",
        "\n",
        "def print_data(data,max_number):\n",
        "  print(\"\\t\",end=\"\")\n",
        "  for i in range(max_number):\n",
        "    print(\"[%2d]\"%data[i],end=\"\")\n",
        "  print()\n",
        "\n",
        "def create_table(num,index):\n",
        "  tmp=num%INDEXBOX\n",
        "  a=1\n",
        "  while True:\n",
        "    if index[tmp]==-1:\n",
        "      index[tmp]=num\n",
        "      break\n",
        "    else:\n",
        "      tmp=(tmp%INDEXBOX)+a**2\n",
        "      a=a+1\n",
        "       \n",
        "      \n",
        "#Main\n",
        "index=[None]*INDEXBOX\n",
        "data=[None]*MAXNUM\n",
        "\n",
        "print('原始陣列值')\n",
        "for i in range(MAXNUM):\n",
        "  data[i]=random.randint(1,20)\n",
        "for i in range(INDEXBOX):\n",
        "  index[i]=-1\n",
        "print_data(data,MAXNUM)\n",
        "print('雜湊表內容')\n",
        "for i in range(MAXNUM):\n",
        "    create_table(data[i],index)\n",
        "    print('%2d=>'%data[i],end='')\n",
        "    print_data(index,INDEXBOX)\n",
        "print('完成雜湊表')\n",
        "print_data(index,INDEXBOX)\n",
        "\n"
      ],
      "execution_count": 34,
      "outputs": [
        {
          "output_type": "stream",
          "text": [
            "原始陣列值\n",
            "\t[ 2][17][15][ 1][ 7][14][ 2]\n",
            "雜湊表內容\n",
            " 2=>\t[-1][-1][ 2][-1][-1][-1][-1][-1][-1][-1]\n",
            "17=>\t[-1][-1][ 2][-1][-1][-1][-1][17][-1][-1]\n",
            "15=>\t[-1][-1][ 2][-1][-1][15][-1][17][-1][-1]\n",
            " 1=>\t[-1][ 1][ 2][-1][-1][15][-1][17][-1][-1]\n",
            " 7=>\t[-1][ 1][ 2][-1][-1][15][-1][17][ 7][-1]\n",
            "14=>\t[-1][ 1][ 2][-1][14][15][-1][17][ 7][-1]\n",
            " 2=>\t[-1][ 1][ 2][ 2][14][15][-1][17][ 7][-1]\n",
            "完成雜湊表\n",
            "\t[-1][ 1][ 2][ 2][14][15][-1][17][ 7][-1]\n"
          ],
          "name": "stdout"
        }
      ]
    },
    {
      "cell_type": "markdown",
      "metadata": {
        "id": "911VAc-FEMZM"
      },
      "source": [
        "在雜湊"
      ]
    },
    {
      "cell_type": "code",
      "metadata": {
        "id": "fQ0m0Sf_EOuz",
        "outputId": "0ece8d62-8456-47f6-d7cc-4778de1524dd",
        "colab": {
          "base_uri": "https://localhost:8080/",
          "height": 167
        }
      },
      "source": [
        "import random\n",
        "\n",
        "INDEXBOX=10\n",
        "MAXNUM=7\n",
        "\n",
        "def print_data(data,max_number):\n",
        "  print(\"\\t\",end=\"\")\n",
        "  for i in range(max_number):\n",
        "    print(\"[%2d]\"%data[i],end=\"\")\n",
        "  print()\n",
        "\n",
        "def create_table(num,index):\n",
        "  tmp=num%INDEXBOX\n",
        "  n=1\n",
        "  while True:\n",
        "    if index[tmp]==-1:\n",
        "      index[tmp]=num\n",
        "      break\n",
        "    else:\n",
        "      tmp=(tmp+2*n)%INDEXBOX\n",
        "      n=n+1\n",
        "#Main\n",
        "index=[None]*INDEXBOX\n",
        "data=[None]*MAXNUM\n",
        "\n",
        "print('原始陣列值')\n",
        "for i in range(MAXNUM):\n",
        "  data[i]=random.randint(1,20)\n",
        "for i in range(INDEXBOX):\n",
        "  index[i]=-1\n",
        "print_data(data,MAXNUM)\n",
        "print('雜湊表內容')\n",
        "for i in range(MAXNUM):\n",
        "    create_table(data[i],index)\n",
        "    print('%2d=>'%data[i],end='')\n",
        "    print_data(index,INDEXBOX)\n",
        "print('完成雜湊表')\n",
        "print_data(index,INDEXBOX)"
      ],
      "execution_count": null,
      "outputs": [
        {
          "output_type": "stream",
          "text": [
            "原始陣列值\n",
            "\t[ 6][15][12][19][17][17][13]\n",
            "雜湊表內容\n",
            " 6=>\t[-1][-1][-1][-1][-1][-1][ 6][-1][-1][-1]\n",
            "15=>\t[-1][-1][-1][-1][-1][15][ 6][-1][-1][-1]\n",
            "12=>\t[-1][-1][12][-1][-1][15][ 6][-1][-1][-1]\n",
            "19=>\t[-1][-1][12][-1][-1][15][ 6][-1][-1][19]\n",
            "17=>\t[-1][-1][12][-1][-1][15][ 6][17][-1][19]\n",
            "17=>\t[-1][-1][12][17][-1][15][ 6][17][-1][19]\n"
          ],
          "name": "stdout"
        }
      ]
    }
  ]
}