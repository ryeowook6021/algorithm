{
  "nbformat": 4,
  "nbformat_minor": 0,
  "metadata": {
    "colab": {
      "name": "1209.ipynb",
      "provenance": [],
      "authorship_tag": "ABX9TyNS4MFvRXJhz2LCRL9M1bCP",
      "include_colab_link": true
    },
    "kernelspec": {
      "name": "python3",
      "display_name": "Python 3"
    }
  },
  "cells": [
    {
      "cell_type": "markdown",
      "metadata": {
        "id": "view-in-github",
        "colab_type": "text"
      },
      "source": [
        "<a href=\"https://colab.research.google.com/github/ryeowook6021/algorithm/blob/master/1209.ipynb\" target=\"_parent\"><img src=\"https://colab.research.google.com/assets/colab-badge.svg\" alt=\"Open In Colab\"/></a>"
      ]
    },
    {
      "cell_type": "code",
      "metadata": {
        "id": "wZlpWBa9WSA6"
      },
      "source": [
        "鐵條問題\r\n"
      ],
      "execution_count": null,
      "outputs": []
    },
    {
      "cell_type": "code",
      "metadata": {
        "colab": {
          "base_uri": "https://localhost:8080/"
        },
        "id": "FCZk3pUfW_QZ",
        "outputId": "8c638c24-f4e9-4cf8-f56e-e91aa1116d5d"
      },
      "source": [
        "def BottomUpCutRod(pricelist, n):\r\n",
        "    list1 = [0]*(n+1)\r\n",
        "    for i in range(1, n+1):\r\n",
        "        if n == 0:\r\n",
        "            return 0\r\n",
        "        price =0\r\n",
        "        for j in range(1, i+1):\r\n",
        "            price = max(price, pricelist[j]+list1 [i-j])\r\n",
        "            list1 [i] = price\r\n",
        "    return list1[n]\r\n",
        "pricelist=[0,1,5,8,9,10,17,17,20,24,30]\r\n",
        "print(\"請輸入總長度\")\r\n",
        "print(\"價錢\",BottomUpCutRod(pricelist, int(input())))"
      ],
      "execution_count": 22,
      "outputs": [
        {
          "output_type": "stream",
          "text": [
            "請輸入總長度\n",
            "7\n",
            "價錢 18\n"
          ],
          "name": "stdout"
        }
      ]
    }
  ]
}