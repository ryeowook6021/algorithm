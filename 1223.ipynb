{
  "nbformat": 4,
  "nbformat_minor": 0,
  "metadata": {
    "colab": {
      "name": "1223.ipynb",
      "provenance": [],
      "authorship_tag": "ABX9TyM51Si5VHWeIVfMBnmH56pk",
      "include_colab_link": true
    },
    "kernelspec": {
      "name": "python3",
      "display_name": "Python 3"
    }
  },
  "cells": [
    {
      "cell_type": "markdown",
      "metadata": {
        "id": "view-in-github",
        "colab_type": "text"
      },
      "source": [
        "<a href=\"https://colab.research.google.com/github/ryeowook6021/algorithm/blob/master/1223.ipynb\" target=\"_parent\"><img src=\"https://colab.research.google.com/assets/colab-badge.svg\" alt=\"Open In Colab\"/></a>"
      ]
    },
    {
      "cell_type": "markdown",
      "metadata": {
        "id": "iCPgXW_I24aW"
      },
      "source": [
        "集合覆蓋問題（ Set covering problem，SCP）是經典問題。其中決定性問題是卡普的二十一個NP-完全問題之一，最佳化問題的集合覆蓋是NP困難問題。此外，問題可以在每個集合上添加權值而變為帶權集合覆蓋問題。集合覆蓋用一組較小的集合覆蓋一個任意的集合。[1]工業領域裡的許多問題都為集合覆蓋問題，如資源選擇問題、設施選址問題（基地台的選址、物流中心的選址）等。[2]\r\n",
        "SCP包含一個集合U以及U內元素構成的許多各小類集合S，目標是找到S 的一個子集，該子集滿足所含元素包含了U中的所有元素且使小類集合個數最少。例如U={1,2,3,4,5}，S={{1,2},{3,4},{2,4,5},{4,5}},找到集合能滿足條件的可以O={{1,2},{3,4}{4,5}}或是O={{1,2},{3,4},{2,4,5}}[1]\r\n",
        "\r\n",
        "題目：\r\n",
        "一個集合U以及U內元素構成的若干個小類集合S={s1,s2,...,sm},每一個si均有一個價值。給的那個一個演算法，要找到S的一個子集，該子集滿足所含元素包含了所有的元素且使得小類集合的總價值最小。\r\n",
        "        例如，U=【1，2，3，4，5】，S=【s1,s2,s3】.其中，s1=【4，1，3】，s2=【2，5】，s3=【1,4,2,3】，並且，Cost（s1）=5,Cost（s2）=10,Cost（s3）=3。選擇集合【s2,s3】可完成價值最小的完美覆蓋，此時價值為13。\r\n",
        "解題想法：\r\n",
        "要完成價值最小，則選擇小類集合的條件是價值最小優先。故按照價值的大小去選擇，然後判斷小類集合是否存在集合U中[3]\r\n",
        "\r\n",
        "資料來源:\r\n",
        "https://baike.baidu.com/item/%E9%9B%86%E5%90%88%E8%A6%86%E7%9B%96%E9%97%AE%E9%A2%98/9160069\r\n",
        "\r\n",
        "https://www.jianshu.com/p/21f0a75d73e1\r\n",
        "\r\n",
        "https://blog.csdn.net/qq_37163152/article/details/84995122\r\n",
        "\r\n",
        "\r\n",
        "\r\n",
        "\r\n"
      ]
    },
    {
      "cell_type": "code",
      "metadata": {
        "id": "Jxdz3SnJUnuv",
        "colab": {
          "base_uri": "https://localhost:8080/"
        },
        "outputId": "c548da39-1eb0-47d5-e02c-1354732fd98e"
      },
      "source": [
        "def get_mincost(S1,U1,cost):\r\n",
        "    final=[]\r\n",
        "    temp=sorted(cost,reverse=False)\r\n",
        "    costs = 0\r\n",
        "    for i in range(len(temp)):\r\n",
        "        min=temp[i]\r\n",
        "        flag = 0\r\n",
        "        for j in range(len(cost)):\r\n",
        "            if cost[j]==min:\r\n",
        "                \r\n",
        "                for k in S1[j]:\r\n",
        "                    if (k in U1) and (len(U1)>0):\r\n",
        "                        flag=1\r\n",
        "                        U1.remove(k)\r\n",
        "                    if len(U1) == 0:\r\n",
        "                        break\r\n",
        "                if flag==1:\r\n",
        "                    costs+=cost[j]\r\n",
        "                    final.append(S1[j])\r\n",
        "    return final,costs\r\n",
        "S1=[[4,1,3],[2,5],[1,4,3,2]]; U1=[1,2,3,4,5]\r\n",
        "cost=[5,10,3]\r\n",
        "final,costs=get_mincost(S1,U1,cost)\r\n",
        "print(\"答案是\")\r\n",
        "print(final)"
      ],
      "execution_count": 9,
      "outputs": [
        {
          "output_type": "stream",
          "text": [
            "答案是\n",
            "[[1, 4, 3, 2], [2, 5]]\n"
          ],
          "name": "stdout"
        }
      ]
    }
  ]
}