{
  "nbformat": 4,
  "nbformat_minor": 0,
  "metadata": {
    "colab": {
      "name": "11/4 hanoi.ipynb",
      "provenance": [],
      "authorship_tag": "ABX9TyPRQsznk6652Iruuc/+oTI7",
      "include_colab_link": true
    },
    "kernelspec": {
      "name": "python3",
      "display_name": "Python 3"
    }
  },
  "cells": [
    {
      "cell_type": "markdown",
      "metadata": {
        "id": "view-in-github",
        "colab_type": "text"
      },
      "source": [
        "<a href=\"https://colab.research.google.com/github/ryeowook6021/algorithm/blob/master/11_4_hanoi.ipynb\" target=\"_parent\"><img src=\"https://colab.research.google.com/assets/colab-badge.svg\" alt=\"Open In Colab\"/></a>"
      ]
    },
    {
      "cell_type": "code",
      "metadata": {
        "id": "Dg7yOatWFTV3",
        "outputId": "099fe391-a9e7-477a-a684-f35520b8098e",
        "colab": {
          "base_uri": "https://localhost:8080/"
        }
      },
      "source": [
        "def Hanoi(n , a, b, c):\n",
        "  if n==1:\n",
        "    global countmove\n",
        "    countmove=countmove+1\n",
        "    print(a,\"-->\",c,\"執行次數:\",countmove)\n",
        "    return\n",
        "    \n",
        "  else:\n",
        "      \n",
        "      Hanoi(n-1,a,c,b)\n",
        "      Hanoi(1,a,b,c)\n",
        "      Hanoi(n-1,b,a,c)\n",
        "\n",
        "\n",
        "countmove=0\n",
        "value=5\n",
        "Hanoi(value,\"a\",\"b\",\"c\")\n"
      ],
      "execution_count": 16,
      "outputs": [
        {
          "output_type": "stream",
          "text": [
            "a --> c 執行次數: 1\n",
            "a --> b 執行次數: 2\n",
            "c --> b 執行次數: 3\n",
            "a --> c 執行次數: 4\n",
            "b --> a 執行次數: 5\n",
            "b --> c 執行次數: 6\n",
            "a --> c 執行次數: 7\n",
            "a --> b 執行次數: 8\n",
            "c --> b 執行次數: 9\n",
            "c --> a 執行次數: 10\n",
            "b --> a 執行次數: 11\n",
            "c --> b 執行次數: 12\n",
            "a --> c 執行次數: 13\n",
            "a --> b 執行次數: 14\n",
            "c --> b 執行次數: 15\n",
            "a --> c 執行次數: 16\n",
            "b --> a 執行次數: 17\n",
            "b --> c 執行次數: 18\n",
            "a --> c 執行次數: 19\n",
            "b --> a 執行次數: 20\n",
            "c --> b 執行次數: 21\n",
            "c --> a 執行次數: 22\n",
            "b --> a 執行次數: 23\n",
            "b --> c 執行次數: 24\n",
            "a --> c 執行次數: 25\n",
            "a --> b 執行次數: 26\n",
            "c --> b 執行次數: 27\n",
            "a --> c 執行次數: 28\n",
            "b --> a 執行次數: 29\n",
            "b --> c 執行次數: 30\n",
            "a --> c 執行次數: 31\n"
          ],
          "name": "stdout"
        }
      ]
    }
  ]
}