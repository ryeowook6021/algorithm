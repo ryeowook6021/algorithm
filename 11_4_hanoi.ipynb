{
  "nbformat": 4,
  "nbformat_minor": 0,
  "metadata": {
    "colab": {
      "name": "11/4 hanoi.ipynb",
      "provenance": [],
      "authorship_tag": "ABX9TyP19t/fDjxjE1dYcfpweD3W",
      "include_colab_link": true
    },
    "kernelspec": {
      "name": "python3",
      "display_name": "Python 3"
    }
  },
  "cells": [
    {
      "cell_type": "markdown",
      "metadata": {
        "id": "view-in-github",
        "colab_type": "text"
      },
      "source": [
        "<a href=\"https://colab.research.google.com/github/ryeowook6021/algorithm/blob/master/11_4_hanoi.ipynb\" target=\"_parent\"><img src=\"https://colab.research.google.com/assets/colab-badge.svg\" alt=\"Open In Colab\"/></a>"
      ]
    },
    {
      "cell_type": "code",
      "metadata": {
        "id": "Dg7yOatWFTV3",
        "outputId": "69ce81f2-8a5e-4d5f-ca30-5b140859fda2",
        "colab": {
          "base_uri": "https://localhost:8080/"
        }
      },
      "source": [
        "def Hanoi(n , a, b, c):\n",
        "  countmove=0\n",
        "  if n==1:\n",
        "    countmove=countmove+1\n",
        "    print(a,\"-->\",c,\"執行次數:\",countmove)\n",
        "    return\n",
        "    \n",
        "  else:\n",
        "      Hanoi(n-1,a,c,b)\n",
        "      Hanoi(1,a,b,c)\n",
        "      Hanoi(n-1,b,a,c)\n",
        "\n",
        "\n",
        "\n",
        "value=5\n",
        "Hanoi(value,\"a\",\"b\",\"c\")\n"
      ],
      "execution_count": 12,
      "outputs": [
        {
          "output_type": "stream",
          "text": [
            "a --> c 執行次數: 1\n",
            "a --> b 執行次數: 1\n",
            "c --> b 執行次數: 1\n",
            "a --> c 執行次數: 1\n",
            "b --> a 執行次數: 1\n",
            "b --> c 執行次數: 1\n",
            "a --> c 執行次數: 1\n",
            "a --> b 執行次數: 1\n",
            "c --> b 執行次數: 1\n",
            "c --> a 執行次數: 1\n",
            "b --> a 執行次數: 1\n",
            "c --> b 執行次數: 1\n",
            "a --> c 執行次數: 1\n",
            "a --> b 執行次數: 1\n",
            "c --> b 執行次數: 1\n",
            "a --> c 執行次數: 1\n",
            "b --> a 執行次數: 1\n",
            "b --> c 執行次數: 1\n",
            "a --> c 執行次數: 1\n",
            "b --> a 執行次數: 1\n",
            "c --> b 執行次數: 1\n",
            "c --> a 執行次數: 1\n",
            "b --> a 執行次數: 1\n",
            "b --> c 執行次數: 1\n",
            "a --> c 執行次數: 1\n",
            "a --> b 執行次數: 1\n",
            "c --> b 執行次數: 1\n",
            "a --> c 執行次數: 1\n",
            "b --> a 執行次數: 1\n",
            "b --> c 執行次數: 1\n",
            "a --> c 執行次數: 1\n"
          ],
          "name": "stdout"
        }
      ]
    }
  ]
}