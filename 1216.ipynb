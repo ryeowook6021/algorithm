{
  "nbformat": 4,
  "nbformat_minor": 0,
  "metadata": {
    "colab": {
      "name": "1216.ipynb",
      "provenance": [],
      "authorship_tag": "ABX9TyNLhHZt4EKOhXG4WNnU7/Pl",
      "include_colab_link": true
    },
    "kernelspec": {
      "name": "python3",
      "display_name": "Python 3"
    }
  },
  "cells": [
    {
      "cell_type": "markdown",
      "metadata": {
        "id": "view-in-github",
        "colab_type": "text"
      },
      "source": [
        "<a href=\"https://colab.research.google.com/github/ryeowook6021/algorithm/blob/master/1216.ipynb\" target=\"_parent\"><img src=\"https://colab.research.google.com/assets/colab-badge.svg\" alt=\"Open In Colab\"/></a>"
      ]
    },
    {
      "cell_type": "markdown",
      "metadata": {
        "id": "0SNRe9oubgOJ"
      },
      "source": [
        "NP問題 集合覆蓋問題 (Set Cover)\r\n",
        "介紹:\r\n",
        "有N個元素以及M個子集合，\r\n",
        "用最少的子集合，將每一個元素都至少出現在一個子集合內。\r\n",
        "\r\n",
        "題目:\r\n",
        "現在有一個技能列表，\r\n",
        "以及每個人到底會哪些技能。\r\n",
        "找出人數最少的隊伍，\r\n",
        "使得每一項列表上的技能該隊伍裡面都有人會。\r\n",
        "例如:\r\n",
        "Input: skills = [\"java\",\"nodejs\",\"reactjs\"], people = [[\"java\"],[\"nodejs\"],[\"nodejs\",\"reactjs\"]]\r\n",
        "Output: [0,2]\r\n",
        "\r\n",
        "Input: skills = [\"algorithms\",\"math\",\"java\",\"reactjs\",\"csharp\",\"aws\"], people = [[\"algorithms\",\"math\",\"java\"],[\"algorithms\",\"math\",\"reactjs\"],[\"java\",\"csharp\",\"aws\"],[\"reactjs\",\"csharp\"],[\"csharp\",\"math\"],[\"aws\",\"java\"]]\r\n",
        "Output: [1,2]\r\n",
        "\r\n",
        "用動態規劃:\r\n",
        "考慮技能列表的一個子集合S，我們可以令dp(S)表示湊滿集合S的時候最少需要多少人（然後順便留下一個list表示一組解）。\r\n",
        "dp(空集合) = []。當我們找出dp(S)的時候，可以掃過所有人，\r\n",
        "把這個人加進隊伍中，看看新的dp(S+這個人會的東西)當前的list會不會比較短\r\n",
        "，如果比較短的話就更新上去"
      ]
    },
    {
      "cell_type": "code",
      "metadata": {
        "colab": {
          "base_uri": "https://localhost:8080/",
          "height": 129
        },
        "id": "eyo2cFIFhHOD",
        "outputId": "52c8d66e-641e-4011-814e-92e288f225c2"
      },
      "source": [
        "class Solution(object):\r\n",
        "    def smallestSufficientTeam(self, req_skills, people):\r\n",
        "        \"\"\"\r\n",
        "        :type req_skills: List[str]\r\n",
        "        :type people: List[List[str]]\r\n",
        "        :rtype: List[int]\r\n",
        "        \"\"\"\r\n",
        "      def get_mask(skill_list):\r\n",
        "        return sum([2**req_skills.index(skill) for skill in skill_list])\r\n",
        "      masks = [get_mask(skill_list) for skill_list in people]\r\n",
        "      dp = {}\r\n",
        "      dp[0] = []\r\n",
        "      for state in range(0, 2**len(req_skills)):\r\n",
        "        if dp.get(state) == None:\r\n",
        "          continue\r\n",
        "      for i, mask in enumerate(masks):\r\n",
        "        if dp.get(state|mask) == None or len(dp[state|mask]) > len(dp[state]) + 1:\r\n",
        "          dp[state|mask] = dp[state] + [i]\r\n",
        "      return dp[2**len(req_skills)-1]"
      ],
      "execution_count": 3,
      "outputs": [
        {
          "output_type": "error",
          "ename": "IndentationError",
          "evalue": "ignored",
          "traceback": [
            "\u001b[0;36m  File \u001b[0;32m\"<ipython-input-3-3b74c5ff79a6>\"\u001b[0;36m, line \u001b[0;32m8\u001b[0m\n\u001b[0;31m    def get_mask(skill_list):\u001b[0m\n\u001b[0m                             ^\u001b[0m\n\u001b[0;31mIndentationError\u001b[0m\u001b[0;31m:\u001b[0m unindent does not match any outer indentation level\n"
          ]
        }
      ]
    }
  ]
}