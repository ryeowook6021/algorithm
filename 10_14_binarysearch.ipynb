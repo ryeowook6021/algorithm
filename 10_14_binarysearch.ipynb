{
  "nbformat": 4,
  "nbformat_minor": 0,
  "metadata": {
    "colab": {
      "name": "10/14 binarysearch",
      "provenance": [],
      "authorship_tag": "ABX9TyMAdlBEfYZWWl+fdfXWZn/s",
      "include_colab_link": true
    },
    "kernelspec": {
      "name": "python3",
      "display_name": "Python 3"
    }
  },
  "cells": [
    {
      "cell_type": "markdown",
      "metadata": {
        "id": "view-in-github",
        "colab_type": "text"
      },
      "source": [
        "<a href=\"https://colab.research.google.com/github/ryeowook6021/algorithm/blob/master/10_14_binarysearch.ipynb\" target=\"_parent\"><img src=\"https://colab.research.google.com/assets/colab-badge.svg\" alt=\"Open In Colab\"/></a>"
      ]
    },
    {
      "cell_type": "code",
      "metadata": {
        "id": "8fBnpRo68YtB",
        "outputId": "7f4fb378-cae5-4862-aeb1-2882c473c957",
        "colab": {
          "base_uri": "https://localhost:8080/",
          "height": 34
        }
      },
      "source": [
        "def binarysearch(arr,l,r,x):\n",
        "  if r>=l:\n",
        "    mid =l+(r-l)//2\n",
        "    if arr[mid]==x:\n",
        "      return mid\n",
        "    elif arr[mid]>x:\n",
        "      return binarysearch(arr,l,mid-1,x)\n",
        "    else:\n",
        "      return binarysearch(arr,mid+1,r,x)\n",
        "  else:\n",
        "    return-1\n",
        "\n",
        "\n",
        "arr=[5,8,9,15,30]\n",
        "x=15\n",
        "result = binarysearch(arr,0,len(arr)-1,x)\n",
        "if result != -1:\n",
        "  print(\"元素在索引%d\"%result)\n",
        "else:\n",
        "  print(\"陣列中找不到該元素\")"
      ],
      "execution_count": null,
      "outputs": [
        {
          "output_type": "stream",
          "text": [
            "元素在索引3\n"
          ],
          "name": "stdout"
        }
      ]
    },
    {
      "cell_type": "code",
      "metadata": {
        "id": "aOQk72td_xDc",
        "outputId": "ee70bf13-4687-40fd-ef78-c5f9240fff8c",
        "colab": {
          "base_uri": "https://localhost:8080/",
          "height": 155
        }
      },
      "source": [
        "def Bubble_Sort(datas):\n",
        "    for i in range(1, len(datas)): # \n",
        "        for j in range(len(datas)-i):   # \n",
        "            if datas[j] > datas[j+1]:   # \n",
        "                datas[j], datas[j+1] = datas[j+1], datas[j]\n",
        "    return datas\n",
        "\n",
        "\n",
        "def binarysearch(arr,l,r,x):\n",
        "  if r>=l:\n",
        "    mid =l+(r-l)//2\n",
        "    if arr[mid]==x:\n",
        "      return mid\n",
        "    elif arr[mid]>x:\n",
        "      return binarysearch(arr,l,mid-1,x)\n",
        "    else:\n",
        "      return binarysearch(arr,mid+1,r,x)\n",
        "  else:\n",
        "    return-1\n",
        "\n",
        "\n",
        "\n",
        "if __name__ == '__main__':\n",
        "    \n",
        "    b=1\n",
        "    arr=[]#建立空串列\n",
        "    for b in range(1,6): #for迴圈\n",
        "      a = int(input(\"輸入數字\"))#輸入整數\n",
        "      arr.append(a) #加入串列中\n",
        "      b=b+1#b加1\n",
        "      d = Bubble_Sort(arr)#氣泡排序\n",
        "    print(arr)\n",
        "    x=int(input(\"你要搜尋哪個數字\"))\n",
        "    result = binarysearch(arr,0,len(arr)-1,x)\n",
        "    if result != -1:\n",
        "      print(\"元素在索引%d\"%result)\n",
        "    else:\n",
        "      print(\"陣列中找不到該元素\")\n",
        "      "
      ],
      "execution_count": 8,
      "outputs": [
        {
          "output_type": "stream",
          "text": [
            "輸入數字85\n",
            "輸入數字65\n",
            "輸入數字47\n",
            "輸入數字98\n",
            "輸入數字32\n",
            "[32, 47, 65, 85, 98]\n",
            "你要搜尋哪個數字32\n",
            "元素在索引0\n"
          ],
          "name": "stdout"
        }
      ]
    }
  ]
}