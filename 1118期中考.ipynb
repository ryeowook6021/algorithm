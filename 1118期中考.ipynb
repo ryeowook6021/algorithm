{
  "nbformat": 4,
  "nbformat_minor": 0,
  "metadata": {
    "colab": {
      "name": "1118期中考.ipynb",
      "provenance": [],
      "authorship_tag": "ABX9TyMYZhrLHGMtfJ/OzFj/cV4z",
      "include_colab_link": true
    },
    "kernelspec": {
      "name": "python3",
      "display_name": "Python 3"
    }
  },
  "cells": [
    {
      "cell_type": "markdown",
      "metadata": {
        "id": "view-in-github",
        "colab_type": "text"
      },
      "source": [
        "<a href=\"https://colab.research.google.com/github/ryeowook6021/algorithm/blob/master/1118%E6%9C%9F%E4%B8%AD%E8%80%83.ipynb\" target=\"_parent\"><img src=\"https://colab.research.google.com/assets/colab-badge.svg\" alt=\"Open In Colab\"/></a>"
      ]
    },
    {
      "cell_type": "markdown",
      "metadata": {
        "id": "Qr_BzuoeHD8s"
      },
      "source": [
        "期中考實作-插入排序法\n"
      ]
    },
    {
      "cell_type": "code",
      "metadata": {
        "id": "ULkUKdnGHCUu"
      },
      "source": [
        "def Insertion_Sort(datas):\n",
        "    for i in range(1, len(datas)):  # N-1次\n",
        "        for j in range(i):    # n*(n-1)次\n",
        "            current = datas[i] #n*(n-1次\n",
        "            if current < datas[j]:#n*(n-1)次\n",
        "                for k in range(i,j):#n*n*(n-1)次\n",
        "                  print(datas) \n",
        "    return datas  #1次\n",
        " #O(n^3)\n",
        "\n",
        "def insertionSort(arr):\n",
        "    for i in range(len(arr)):\n",
        "        preIndex = i-1 \n",
        "        current = arr[i] \n",
        "        while preIndex >= 0 and arr[preIndex] > current: \n",
        "            arr[preIndex+1] = arr[preIndex] \n",
        "            preIndex-=1\n",
        "        arr[preIndex+1] = current\n",
        "        print(arr)\n",
        "    return arr  \n",
        "\n",
        "if __name__ == '__main__':\n",
        "    import random\n",
        "    a = list(range(16)) \n",
        "    random.shuffle(a) \n",
        "    b = a.copy()\n",
        "\n",
        "    arr = insertionSort(a) \n",
        "    print('---'*16) \n",
        "    Insertion_Sort(b) "
      ],
      "execution_count": null,
      "outputs": []
    },
    {
      "cell_type": "markdown",
      "metadata": {
        "id": "YlBQqI01HlFz"
      },
      "source": [
        "選擇排序法"
      ]
    },
    {
      "cell_type": "code",
      "metadata": {
        "id": "vxofS9KtHn0s"
      },
      "source": [
        "def Selction_Sort(datas):\n",
        "    for i in range(len(datas)-1): #n-1次\n",
        "        min = i # 第一次選從第一個數開始,第二次從第二個數開始 #n-1次\n",
        "        for j in range(i+1, len(datas)):    # 用記錄的max數與其他的比較 #(n-1)*n次\n",
        "            if datas[j] < datas[min]: #(n-1)*n次\n",
        "                min = j #(n-1)*n次\n",
        "\n",
        "        datas[i], datas[min] = datas[min], datas[i] #n-1次\n",
        "\n",
        "        print(datas)#n-1次\n",
        "        print('---'*16)#n-1次\n",
        "    return datas #1次\n",
        "    #O(n^2) \n",
        "\n",
        "\n",
        "if __name__ == '__main__':\n",
        "    import random \n",
        "    a = list(range(16))\n",
        "    random.shuffle(a)\n",
        "    print(a)\n",
        "    a = Selction_Sort(a)\n",
        "    print(a)"
      ],
      "execution_count": null,
      "outputs": []
    }
  ]
}