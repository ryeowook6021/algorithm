{
  "nbformat": 4,
  "nbformat_minor": 0,
  "metadata": {
    "colab": {
      "name": "1118期中考.ipynb",
      "provenance": [],
      "authorship_tag": "ABX9TyMgGb24CqARMnHnMvumt4vD",
      "include_colab_link": true
    },
    "kernelspec": {
      "name": "python3",
      "display_name": "Python 3"
    }
  },
  "cells": [
    {
      "cell_type": "markdown",
      "metadata": {
        "id": "view-in-github",
        "colab_type": "text"
      },
      "source": [
        "<a href=\"https://colab.research.google.com/github/ryeowook6021/algorithm/blob/master/1118%E6%9C%9F%E4%B8%AD%E8%80%83.ipynb\" target=\"_parent\"><img src=\"https://colab.research.google.com/assets/colab-badge.svg\" alt=\"Open In Colab\"/></a>"
      ]
    },
    {
      "cell_type": "markdown",
      "metadata": {
        "id": "Qr_BzuoeHD8s"
      },
      "source": [
        "期中考實作-插入排序法\n"
      ]
    },
    {
      "cell_type": "code",
      "metadata": {
        "colab": {
          "base_uri": "https://localhost:8080/"
        },
        "id": "ULkUKdnGHCUu",
        "outputId": "4dfb29a8-729e-4354-9356-229a4ca0cb38"
      },
      "source": [
        "def Insertion_Sort(datas):\n",
        "    for i in range(1, len(datas)): \n",
        "        for j in range(i):    \n",
        "            current = datas[i] \n",
        "            if current < datas[j]:\n",
        "                for k in range(i,j):\n",
        "                  print(datas) \n",
        "                 \n",
        "    return datas  \n",
        " \n",
        "\n",
        "def insertionSort(arr):\n",
        "    for i in range(len(arr)):\n",
        "        preIndex = i-1 \n",
        "        current = arr[i] \n",
        "        while preIndex >= 0 and arr[preIndex] > current: \n",
        "            arr[preIndex+1] = arr[preIndex] \n",
        "            preIndex-=1\n",
        "        arr[preIndex+1] = current\n",
        "        print(arr)\n",
        "        print('---'*21)\n",
        "    return arr  \n",
        "\n",
        "if __name__ == '__main__':\n",
        "    import random\n",
        "    a =[]\n",
        "    i=1\n",
        "    for i in range(8):\n",
        "      i=i+1\n",
        "      randomword=random.randint(0,99999)\n",
        "      a.append(randomword)\n",
        "    b = a.copy()\n",
        "    print(\"原本未排序的樣子\",a)\n",
        "\n",
        "    arr = insertionSort(a) \n",
        "    print('---'*16) \n",
        "    Insertion_Sort(b) "
      ],
      "execution_count": 16,
      "outputs": [
        {
          "output_type": "stream",
          "text": [
            "原本未排序的樣子 [11983, 31110, 21861, 89199, 67732, 43138, 21314, 77115]\n",
            "[11983, 31110, 21861, 89199, 67732, 43138, 21314, 77115]\n",
            "---------------------------------------------------------------\n",
            "[11983, 31110, 21861, 89199, 67732, 43138, 21314, 77115]\n",
            "---------------------------------------------------------------\n",
            "[11983, 21861, 31110, 89199, 67732, 43138, 21314, 77115]\n",
            "---------------------------------------------------------------\n",
            "[11983, 21861, 31110, 89199, 67732, 43138, 21314, 77115]\n",
            "---------------------------------------------------------------\n",
            "[11983, 21861, 31110, 67732, 89199, 43138, 21314, 77115]\n",
            "---------------------------------------------------------------\n",
            "[11983, 21861, 31110, 43138, 67732, 89199, 21314, 77115]\n",
            "---------------------------------------------------------------\n",
            "[11983, 21314, 21861, 31110, 43138, 67732, 89199, 77115]\n",
            "---------------------------------------------------------------\n",
            "[11983, 21314, 21861, 31110, 43138, 67732, 77115, 89199]\n",
            "---------------------------------------------------------------\n",
            "------------------------------------------------\n"
          ],
          "name": "stdout"
        }
      ]
    },
    {
      "cell_type": "markdown",
      "metadata": {
        "id": "YlBQqI01HlFz"
      },
      "source": [
        "選擇排序法"
      ]
    },
    {
      "cell_type": "code",
      "metadata": {
        "colab": {
          "base_uri": "https://localhost:8080/"
        },
        "id": "vxofS9KtHn0s",
        "outputId": "e4c54b2b-762c-4bfd-f70a-9f18165941ef"
      },
      "source": [
        "def Selction_Sort(datas):\n",
        "    for i in range(len(datas)-1): \n",
        "        min = i \n",
        "        for j in range(i+1, len(datas)):    \n",
        "            if datas[j] > datas[min]: \n",
        "                min = j \n",
        "\n",
        "        datas[i], datas[min] = datas[min], datas[i]\n",
        "\n",
        "        print(datas)\n",
        "        print('---'*21)\n",
        "    return datas \n",
        "   \n",
        "\n",
        "\n",
        "if __name__ == '__main__':\n",
        "    import random \n",
        "    a =[]\n",
        "    i=1\n",
        "    for i in range(8):\n",
        "      i=i+1\n",
        "      randomword=random.randint(0,99999)\n",
        "      a.append(randomword)\n",
        "    \n",
        "    print(\"原本未排序的樣子\",a)\n",
        "    a = Selction_Sort(a)\n",
        "    print(a)"
      ],
      "execution_count": 11,
      "outputs": [
        {
          "output_type": "stream",
          "text": [
            "原本未排序的樣子 [83673, 91197, 11361, 34101, 64794, 74714, 66104, 18758]\n",
            "[91197, 83673, 11361, 34101, 64794, 74714, 66104, 18758]\n",
            "------------------------------------------------\n",
            "[91197, 83673, 11361, 34101, 64794, 74714, 66104, 18758]\n",
            "------------------------------------------------\n",
            "[91197, 83673, 74714, 34101, 64794, 11361, 66104, 18758]\n",
            "------------------------------------------------\n",
            "[91197, 83673, 74714, 66104, 64794, 11361, 34101, 18758]\n",
            "------------------------------------------------\n",
            "[91197, 83673, 74714, 66104, 64794, 11361, 34101, 18758]\n",
            "------------------------------------------------\n",
            "[91197, 83673, 74714, 66104, 64794, 34101, 11361, 18758]\n",
            "------------------------------------------------\n",
            "[91197, 83673, 74714, 66104, 64794, 34101, 18758, 11361]\n",
            "------------------------------------------------\n",
            "[91197, 83673, 74714, 66104, 64794, 34101, 18758, 11361]\n"
          ],
          "name": "stdout"
        }
      ]
    }
  ]
}