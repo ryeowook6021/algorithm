{
  "nbformat": 4,
  "nbformat_minor": 0,
  "metadata": {
    "colab": {
      "name": "1118期中考.ipynb",
      "provenance": [],
      "authorship_tag": "ABX9TyPGWymnV3RdqZzpIK6LMDn+",
      "include_colab_link": true
    },
    "kernelspec": {
      "name": "python3",
      "display_name": "Python 3"
    }
  },
  "cells": [
    {
      "cell_type": "markdown",
      "metadata": {
        "id": "view-in-github",
        "colab_type": "text"
      },
      "source": [
        "<a href=\"https://colab.research.google.com/github/ryeowook6021/algorithm/blob/master/1118%E6%9C%9F%E4%B8%AD%E8%80%83.ipynb\" target=\"_parent\"><img src=\"https://colab.research.google.com/assets/colab-badge.svg\" alt=\"Open In Colab\"/></a>"
      ]
    },
    {
      "cell_type": "markdown",
      "metadata": {
        "id": "Qr_BzuoeHD8s"
      },
      "source": [
        "期中考實作-插入排序法\n"
      ]
    },
    {
      "cell_type": "code",
      "metadata": {
        "colab": {
          "base_uri": "https://localhost:8080/"
        },
        "id": "ULkUKdnGHCUu",
        "outputId": "64684bd5-9f53-4be4-ff41-376cd7873d24"
      },
      "source": [
        "def Insertion_Sort(datas):  #定義函式Insertion_Sort(datas)，呼叫時才會用\n",
        "    for i in range(1, len(datas)): #迴圈(執行次數)\n",
        "        for j in range(i):   #迴圈(執行次數) \n",
        "            current = datas[i] #取得datas[i]字串中i位置的值\n",
        "            if current < datas[j]: #如果datas[i]字串中i位置的值比datas[j]小\n",
        "                for k in range(i,j):#迴圈(執行次數) \n",
        "                  print(datas)  #印出           \n",
        "    return datas  #回傳值\n",
        " \n",
        "\n",
        "def insertionSort(arr): #定義函式Insertion_Sort(arr)，呼叫時才會用\n",
        "    for i in range(len(arr)): #迴圈(執行次數)\n",
        "        preIndex = i-1 #字串中的鍵值先減1\n",
        "        current = arr[i] #取得arr[i]字串中i位置的值\n",
        "        while preIndex >= 0 and arr[preIndex] > current: #當鍵值>=0還有arr[preIndex]> arr[i]字串中i位置的值\n",
        "            arr[preIndex+1] = arr[preIndex] #下一個順位改成arr[preIndex]\n",
        "            preIndex-=1 #鍵值-1\n",
        "        arr[preIndex+1] = current #不符合上面的while，下一個順位改成current\n",
        "        print(arr)#印出\n",
        "\n",
        "        print('---'*21)\n",
        "    return arr #回傳值 \n",
        "\n",
        "if __name__ == '__main__':  #主程式\n",
        "    import random #匯入數學模組\n",
        "    a =[] #建立空字串\n",
        "    i=1 \n",
        "    for i in range(8): #迴圈\n",
        "      i=i+1 #每做一次迴圈+1\n",
        "      randomword=random.randint(0,99999) #在範圍內隨機抽數字\n",
        "      a.append(randomword) #字串增加數字\n",
        "    b = a.copy()\n",
        "    print(\"原本未排序的樣子\",a)\n",
        "\n",
        "    arr = insertionSort(a) #呼叫函式\n",
        "    print('---'*16) \n",
        "    Insertion_Sort(b) #呼叫函式"
      ],
      "execution_count": 20,
      "outputs": [
        {
          "output_type": "stream",
          "text": [
            "原本未排序的樣子 [35560, 10637, 73874, 45093, 79534, 10604, 61431, 14862]\n",
            "[35560, 10637, 73874, 45093, 79534, 10604, 61431, 14862]\n",
            "---------------------------------------------------------------\n",
            "[10637, 35560, 73874, 45093, 79534, 10604, 61431, 14862]\n",
            "---------------------------------------------------------------\n",
            "[10637, 35560, 73874, 45093, 79534, 10604, 61431, 14862]\n",
            "---------------------------------------------------------------\n",
            "[10637, 35560, 45093, 73874, 79534, 10604, 61431, 14862]\n",
            "---------------------------------------------------------------\n",
            "[10637, 35560, 45093, 73874, 79534, 10604, 61431, 14862]\n",
            "---------------------------------------------------------------\n",
            "[10604, 10637, 35560, 45093, 73874, 79534, 61431, 14862]\n",
            "---------------------------------------------------------------\n",
            "[10604, 10637, 35560, 45093, 61431, 73874, 79534, 14862]\n",
            "---------------------------------------------------------------\n",
            "[10604, 10637, 14862, 35560, 45093, 61431, 73874, 79534]\n",
            "---------------------------------------------------------------\n",
            "------------------------------------------------\n"
          ],
          "name": "stdout"
        }
      ]
    },
    {
      "cell_type": "markdown",
      "metadata": {
        "id": "YlBQqI01HlFz"
      },
      "source": [
        "選擇排序法"
      ]
    },
    {
      "cell_type": "code",
      "metadata": {
        "colab": {
          "base_uri": "https://localhost:8080/"
        },
        "id": "vxofS9KtHn0s",
        "outputId": "e4c54b2b-762c-4bfd-f70a-9f18165941ef"
      },
      "source": [
        "def Selction_Sort(datas):#定義函式Selction_Sort(datas)，呼叫時才會用\n",
        "    for i in range(len(datas)-1): #迴圈\n",
        "        min = i \n",
        "        for j in range(i+1, len(datas)):    \n",
        "            if datas[j] > datas[min]: #比對鍵值的大小，大的要在前面\n",
        "                min = j \n",
        "\n",
        "        datas[i], datas[min] = datas[min], datas[i] #交換數字\n",
        "\n",
        "        print(datas)#輸出\n",
        "        print('---'*21)\n",
        "    return datas \n",
        "   \n",
        "\n",
        "\n",
        "if __name__ == '__main__':#主程式\n",
        "    import random #匯入數學模組 \n",
        "    a =[] #建立空字串\n",
        "    i=1\n",
        "    for i in range(8):\n",
        "      i=i+1 #每做一次迴圈+1\n",
        "      randomword=random.randint(0,99999) #在範圍內隨機抽數字\n",
        "      a.append(randomword) #字串增加數字\n",
        "    \n",
        "    print(\"原本未排序的樣子\",a) #輸出\n",
        "    a = Selction_Sort(a) #呼叫函式\n",
        "    print(a) #輸出"
      ],
      "execution_count": 11,
      "outputs": [
        {
          "output_type": "stream",
          "text": [
            "原本未排序的樣子 [83673, 91197, 11361, 34101, 64794, 74714, 66104, 18758]\n",
            "[91197, 83673, 11361, 34101, 64794, 74714, 66104, 18758]\n",
            "------------------------------------------------\n",
            "[91197, 83673, 11361, 34101, 64794, 74714, 66104, 18758]\n",
            "------------------------------------------------\n",
            "[91197, 83673, 74714, 34101, 64794, 11361, 66104, 18758]\n",
            "------------------------------------------------\n",
            "[91197, 83673, 74714, 66104, 64794, 11361, 34101, 18758]\n",
            "------------------------------------------------\n",
            "[91197, 83673, 74714, 66104, 64794, 11361, 34101, 18758]\n",
            "------------------------------------------------\n",
            "[91197, 83673, 74714, 66104, 64794, 34101, 11361, 18758]\n",
            "------------------------------------------------\n",
            "[91197, 83673, 74714, 66104, 64794, 34101, 18758, 11361]\n",
            "------------------------------------------------\n",
            "[91197, 83673, 74714, 66104, 64794, 34101, 18758, 11361]\n"
          ],
          "name": "stdout"
        }
      ]
    }
  ]
}