{
  "nbformat": 4,
  "nbformat_minor": 0,
  "metadata": {
    "colab": {
      "name": "9/28insertionsort.ipynb",
      "provenance": [],
      "collapsed_sections": [],
      "include_colab_link": true
    },
    "kernelspec": {
      "name": "python3",
      "display_name": "Python 3"
    }
  },
  "cells": [
    {
      "cell_type": "markdown",
      "metadata": {
        "id": "view-in-github",
        "colab_type": "text"
      },
      "source": [
        "<a href=\"https://colab.research.google.com/github/ryeowook6021/algorithm/blob/master/9_28insertionsort.ipynb\" target=\"_parent\"><img src=\"https://colab.research.google.com/assets/colab-badge.svg\" alt=\"Open In Colab\"/></a>"
      ]
    },
    {
      "cell_type": "markdown",
      "metadata": {
        "id": "j95w6SLwOC0z"
      },
      "source": [
        "Insertion sort (插入排序)"
      ]
    },
    {
      "cell_type": "code",
      "metadata": {
        "id": "BxBaYEwzNj_v",
        "outputId": "2dfa44eb-4090-427c-c97a-85c25a306fa8",
        "colab": {
          "base_uri": "https://localhost:8080/",
          "height": 306
        }
      },
      "source": [
        "\n",
        "def Insertion_Sort(datas):\n",
        "    for i in range(1, len(datas)):  # N次\n",
        "        for j in range(i):    #n次\n",
        "            current = datas[i] #n次\n",
        "            if current < datas[j]:\n",
        "                for k in range(i,j):\n",
        "                  print(datas) #n次\n",
        "    return datas  # 1次\n",
        "\n",
        "\n",
        "def insertionSort(arr):\n",
        "    for i in range(len(arr)):#n次\n",
        "        preIndex = i-1 #n次\n",
        "        current = arr[i] #n次\n",
        "        while preIndex >= 0 and arr[preIndex] > current: \n",
        "            arr[preIndex+1] = arr[preIndex] \n",
        "            preIndex-=1\n",
        "        arr[preIndex+1] = current\n",
        "        print(arr)\n",
        "    return arr # 1次 \n",
        "\n",
        "if __name__ == '__main__':\n",
        "    import random\n",
        "    a = list(range(16)) #n次\n",
        "    random.shuffle(a) #n次\n",
        "    b = a.copy()#n次\n",
        "\n",
        "    arr = insertionSort(a) #n次\n",
        "    print('---'*16) #n次\n",
        "    Insertion_Sort(b) #n次"
      ],
      "execution_count": null,
      "outputs": [
        {
          "output_type": "stream",
          "text": [
            "[2, 14, 13, 10, 11, 4, 6, 3, 5, 0, 15, 8, 9, 1, 7, 12]\n",
            "[2, 14, 13, 10, 11, 4, 6, 3, 5, 0, 15, 8, 9, 1, 7, 12]\n",
            "[2, 13, 14, 10, 11, 4, 6, 3, 5, 0, 15, 8, 9, 1, 7, 12]\n",
            "[2, 10, 13, 14, 11, 4, 6, 3, 5, 0, 15, 8, 9, 1, 7, 12]\n",
            "[2, 10, 11, 13, 14, 4, 6, 3, 5, 0, 15, 8, 9, 1, 7, 12]\n",
            "[2, 4, 10, 11, 13, 14, 6, 3, 5, 0, 15, 8, 9, 1, 7, 12]\n",
            "[2, 4, 6, 10, 11, 13, 14, 3, 5, 0, 15, 8, 9, 1, 7, 12]\n",
            "[2, 3, 4, 6, 10, 11, 13, 14, 5, 0, 15, 8, 9, 1, 7, 12]\n",
            "[2, 3, 4, 5, 6, 10, 11, 13, 14, 0, 15, 8, 9, 1, 7, 12]\n",
            "[0, 2, 3, 4, 5, 6, 10, 11, 13, 14, 15, 8, 9, 1, 7, 12]\n",
            "[0, 2, 3, 4, 5, 6, 10, 11, 13, 14, 15, 8, 9, 1, 7, 12]\n",
            "[0, 2, 3, 4, 5, 6, 8, 10, 11, 13, 14, 15, 9, 1, 7, 12]\n",
            "[0, 2, 3, 4, 5, 6, 8, 9, 10, 11, 13, 14, 15, 1, 7, 12]\n",
            "[0, 1, 2, 3, 4, 5, 6, 8, 9, 10, 11, 13, 14, 15, 7, 12]\n",
            "[0, 1, 2, 3, 4, 5, 6, 7, 8, 9, 10, 11, 13, 14, 15, 12]\n",
            "[0, 1, 2, 3, 4, 5, 6, 7, 8, 9, 10, 11, 12, 13, 14, 15]\n",
            "------------------------------------------------\n"
          ],
          "name": "stdout"
        }
      ]
    }
  ]
}