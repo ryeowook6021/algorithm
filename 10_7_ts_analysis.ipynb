{
  "nbformat": 4,
  "nbformat_minor": 0,
  "metadata": {
    "colab": {
      "name": " 10/7 ts_analysis",
      "provenance": [],
      "authorship_tag": "ABX9TyN/rSnZfIKSjpSjUiC2ASJT",
      "include_colab_link": true
    },
    "kernelspec": {
      "name": "python3",
      "display_name": "Python 3"
    }
  },
  "cells": [
    {
      "cell_type": "markdown",
      "metadata": {
        "id": "view-in-github",
        "colab_type": "text"
      },
      "source": [
        "<a href=\"https://colab.research.google.com/github/ryeowook6021/algorithm/blob/master/10_7_ts_analysis.ipynb\" target=\"_parent\"><img src=\"https://colab.research.google.com/assets/colab-badge.svg\" alt=\"Open In Colab\"/></a>"
      ]
    },
    {
      "cell_type": "markdown",
      "metadata": {
        "id": "dbLFOhBR4-he"
      },
      "source": [
        "時間與空間複雜度的例子\n",
        "\n",
        "某家飲料店的每月的10.25是會員日，飲料會打9折，如何判斷今天是不是會員日?"
      ]
    },
    {
      "cell_type": "code",
      "metadata": {
        "id": "NGQ8EkIX41c1",
        "outputId": "89edd729-9ffe-4cdd-f1d0-739de9d5e970",
        "colab": {
          "base_uri": "https://localhost:8080/"
        }
      },
      "source": [
        "#時間複雜度\n",
        "a=int(input())\n",
        "\n",
        "if a==10 or a==25:\n",
        "  print(\"今天是會員日\")\n",
        "else:\n",
        "  print(\"今天不是會員日\")"
      ],
      "execution_count": 14,
      "outputs": [
        {
          "output_type": "stream",
          "text": [
            "13\n",
            "今天不是會員日\n"
          ],
          "name": "stdout"
        }
      ]
    },
    {
      "cell_type": "code",
      "metadata": {
        "id": "6Nt7scIC4_KN",
        "outputId": "89fe0d34-ee66-4e3c-be5e-3678d3f08903",
        "colab": {
          "base_uri": "https://localhost:8080/"
        }
      },
      "source": [
        "#空間複雜度\n",
        "a=[]\n",
        "i=0\n",
        "for i in range(1,32):\n",
        "  if i==10 or i==25:\n",
        "    a.append(1)\n",
        "  else:\n",
        "    a.append(0)\n",
        "print(a)\n",
        "\n",
        "b=int(input())\n",
        "if a[b-1]==0:\n",
        "  print(\"今天不是會員日\")\n",
        "else:\n",
        "  print(\"今天是會員日\")\n",
        " "
      ],
      "execution_count": 29,
      "outputs": [
        {
          "output_type": "stream",
          "text": [
            "[0, 0, 0, 0, 0, 0, 0, 0, 0, 1, 0, 0, 0, 0, 0, 0, 0, 0, 0, 0, 0, 0, 0, 0, 1, 0, 0, 0, 0, 0, 0]\n",
            "25\n",
            "今天是會員日\n"
          ],
          "name": "stdout"
        }
      ]
    }
  ]
}