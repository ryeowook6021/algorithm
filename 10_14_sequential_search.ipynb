{
  "nbformat": 4,
  "nbformat_minor": 0,
  "metadata": {
    "colab": {
      "name": "10/14 sequential search",
      "provenance": [],
      "authorship_tag": "ABX9TyOLaq9a9ViJKxMF+TvyzZNB",
      "include_colab_link": true
    },
    "kernelspec": {
      "name": "python3",
      "display_name": "Python 3"
    }
  },
  "cells": [
    {
      "cell_type": "markdown",
      "metadata": {
        "id": "view-in-github",
        "colab_type": "text"
      },
      "source": [
        "<a href=\"https://colab.research.google.com/github/ryeowook6021/algorithm/blob/master/10_14_sequential_search.ipynb\" target=\"_parent\"><img src=\"https://colab.research.google.com/assets/colab-badge.svg\" alt=\"Open In Colab\"/></a>"
      ]
    },
    {
      "cell_type": "code",
      "metadata": {
        "id": "t_SY3JXZw4d9",
        "outputId": "d939161f-431d-4d92-e171-98e1b49e9b4e",
        "colab": {
          "base_uri": "https://localhost:8080/",
          "height": 34
        }
      },
      "source": [
        "data=[20,31,50,17,16,36,19,8]\n",
        "c=[]\n",
        "def sequential_search(data,key):\n",
        "  for i in data:\n",
        "    if i ==key:\n",
        "      c.append(1)\n",
        "    else:\n",
        "      c.append(0)\n",
        "  if sum(c)!=0:\n",
        "    print(\"找到了\")\n",
        "  else:\n",
        "    print(\"找不到這個數字\")\n",
        "     \n",
        "sequential_search(data,18)"
      ],
      "execution_count": 35,
      "outputs": [
        {
          "output_type": "stream",
          "text": [
            "找不到這個數字\n"
          ],
          "name": "stdout"
        }
      ]
    },
    {
      "cell_type": "code",
      "metadata": {
        "id": "Pr6Szn1i17JA",
        "outputId": "6beea22a-9828-45e5-ae2b-1f8c0e5309f3",
        "colab": {
          "base_uri": "https://localhost:8080/",
          "height": 34
        }
      },
      "source": [
        "data = [20,31,50,17,16,36,19,8]\n",
        "\n",
        "def sequential_search(data, key):\n",
        "    tmp = [0] * (len(data) + 1)    #設一個空陣列，長度為data長度+1\n",
        "    for i in range(1, len(data)):  #將data的值給到tmp\n",
        "        tmp[i] = data[i - 1]\n",
        "    tmp[0] = key                   #設定key值\n",
        "    i = len(data)                  #設定索引並開始比較\n",
        "    while tmp[i] != tmp[0]:\n",
        "        i -= 1\n",
        "    return i - 1                   #回傳索引\n",
        "\n",
        "index = sequential_search(data,50)\n",
        "if index >= 0:\n",
        "    print(\"找到了\")\n",
        "else:\n",
        "    print(\"找不到這個數字\")\n",
        "\n"
      ],
      "execution_count": null,
      "outputs": [
        {
          "output_type": "stream",
          "text": [
            "找到了\n"
          ],
          "name": "stdout"
        }
      ]
    }
  ]
}