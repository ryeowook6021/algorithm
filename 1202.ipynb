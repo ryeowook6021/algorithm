{
  "nbformat": 4,
  "nbformat_minor": 0,
  "metadata": {
    "colab": {
      "name": "1202",
      "provenance": [],
      "collapsed_sections": [],
      "authorship_tag": "ABX9TyMTVg2ZTm7fM220mg/GhXfL",
      "include_colab_link": true
    },
    "kernelspec": {
      "name": "python3",
      "display_name": "Python 3"
    }
  },
  "cells": [
    {
      "cell_type": "markdown",
      "metadata": {
        "id": "view-in-github",
        "colab_type": "text"
      },
      "source": [
        "<a href=\"https://colab.research.google.com/github/ryeowook6021/algorithm/blob/master/1202.ipynb\" target=\"_parent\"><img src=\"https://colab.research.google.com/assets/colab-badge.svg\" alt=\"Open In Colab\"/></a>"
      ]
    },
    {
      "cell_type": "markdown",
      "metadata": {
        "id": "8_HfCo-sOP8E"
      },
      "source": [
        "第一題 貪婪法"
      ]
    },
    {
      "cell_type": "code",
      "metadata": {
        "colab": {
          "base_uri": "https://localhost:8080/"
        },
        "id": "jh99PL7kJGLC",
        "outputId": "90884246-c858-4812-e70e-bb0afc063235"
      },
      "source": [
        "t=[25,20,5,1]\n",
        "listnew=[0,0,0,0]\n",
        "def change(t,n):\n",
        "    global listnew\n",
        "    m=[0 for _ in range(len(t))]\n",
        "    for i,money in enumerate(t):\n",
        "      m[i]=n//money\n",
        "      n=n%money\n",
        "      listnew[i]=m[i]\n",
        "      print(listnew)\n",
        "      \n",
        "      \n",
        "change(t,41)"
      ],
      "execution_count": null,
      "outputs": [
        {
          "output_type": "stream",
          "text": [
            "[1, 0, 0, 0]\n",
            "[1, 0, 0, 0]\n",
            "[1, 0, 3, 0]\n",
            "[1, 0, 3, 1]\n"
          ],
          "name": "stdout"
        }
      ]
    },
    {
      "cell_type": "markdown",
      "metadata": {
        "id": "I8GliVMDOSG8"
      },
      "source": [
        "第一題 貪婪法可自行輸入值"
      ]
    },
    {
      "cell_type": "code",
      "metadata": {
        "colab": {
          "base_uri": "https://localhost:8080/"
        },
        "id": "M8_C53JrOPlW",
        "outputId": "9a74fc50-d911-498a-8b73-2721da787a08"
      },
      "source": [
        "t=[25,20,5,1]\n",
        "listnew=[0,0,0,0]\n",
        "def change(t,n):\n",
        "    global listnew\n",
        "    m=[0 for _ in range(len(t))]\n",
        "    for i,money in enumerate(t):\n",
        "      m[i]=n//money\n",
        "      n=n%money\n",
        "      listnew[i]=m[i]\n",
        "      print(listnew)\n",
        "      \n",
        "print(\"請輸入任意值\")     \n",
        "change(t,int(input()))"
      ],
      "execution_count": null,
      "outputs": [
        {
          "output_type": "stream",
          "text": [
            "請輸入任意值\n",
            "65\n",
            "[2, 0, 0, 0]\n",
            "[2, 0, 0, 0]\n",
            "[2, 0, 3, 0]\n",
            "[2, 0, 3, 0]\n"
          ],
          "name": "stdout"
        }
      ]
    },
    {
      "cell_type": "markdown",
      "metadata": {
        "id": "9ivNZL_NUSD-"
      },
      "source": [
        "第一題 用動態規劃的方式"
      ]
    },
    {
      "cell_type": "code",
      "metadata": {
        "id": "WEig2b1JUSZ9",
        "colab": {
          "base_uri": "https://localhost:8080/"
        },
        "outputId": "bddbeac1-3ceb-4cc2-a1e4-73391479364e"
      },
      "source": [
        "def getMinCounts(k, values): # 求得最小的硬幣數量\n",
        "    memo = [-1] * (k + 1)\n",
        "    memo[0] = 0 # 初始化狀態\n",
        "    for item in range(1, k + 1):\n",
        "       memo[item] = k + 1\n",
        "   \n",
        "    for item in range(1, k + 1):\n",
        "        for coin in values:\n",
        "            if (item - coin < 0):\n",
        "                continue\n",
        "            memo[item] = min(memo[item], memo[item - coin] + 1) # 作出決策\n",
        "    print(memo[item]) \n",
        "\n",
        "t=[25,20,5,1]\n",
        "getMinCounts(41,t)\n",
        "\n",
        "\n"
      ],
      "execution_count": 111,
      "outputs": [
        {
          "output_type": "stream",
          "text": [
            "3\n"
          ],
          "name": "stdout"
        }
      ]
    },
    {
      "cell_type": "markdown",
      "metadata": {
        "id": "NRc7SClDUUc9"
      },
      "source": [
        "第二題  偷東西 貪婪法"
      ]
    },
    {
      "cell_type": "code",
      "metadata": {
        "id": "ufxqdRoKUVxV"
      },
      "source": [
        "values=[17000,35000,60000,9000,20000]\n",
        "weight=[5,1,4,3,2]\n",
        "\n"
      ],
      "execution_count": null,
      "outputs": []
    },
    {
      "cell_type": "markdown",
      "metadata": {
        "id": "nD2i7mVOa1Lo"
      },
      "source": [
        "第二題 偷東西 動態規劃"
      ]
    },
    {
      "cell_type": "code",
      "metadata": {
        "id": "wUo_GTAGa5TF"
      },
      "source": [
        ""
      ],
      "execution_count": null,
      "outputs": []
    }
  ]
}