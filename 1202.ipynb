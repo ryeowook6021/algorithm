{
  "nbformat": 4,
  "nbformat_minor": 0,
  "metadata": {
    "colab": {
      "name": "1202",
      "provenance": [],
      "collapsed_sections": [],
      "authorship_tag": "ABX9TyO9g9vt0gdxBai75ctEBdaN",
      "include_colab_link": true
    },
    "kernelspec": {
      "name": "python3",
      "display_name": "Python 3"
    }
  },
  "cells": [
    {
      "cell_type": "markdown",
      "metadata": {
        "id": "view-in-github",
        "colab_type": "text"
      },
      "source": [
        "<a href=\"https://colab.research.google.com/github/ryeowook6021/algorithm/blob/master/1202.ipynb\" target=\"_parent\"><img src=\"https://colab.research.google.com/assets/colab-badge.svg\" alt=\"Open In Colab\"/></a>"
      ]
    },
    {
      "cell_type": "markdown",
      "metadata": {
        "id": "8_HfCo-sOP8E"
      },
      "source": [
        "第一題 貪婪法"
      ]
    },
    {
      "cell_type": "code",
      "metadata": {
        "colab": {
          "base_uri": "https://localhost:8080/"
        },
        "id": "jh99PL7kJGLC",
        "outputId": "90884246-c858-4812-e70e-bb0afc063235"
      },
      "source": [
        "t=[25,20,5,1]\n",
        "listnew=[0,0,0,0]\n",
        "def change(t,n):\n",
        "    global listnew\n",
        "    m=[0 for _ in range(len(t))]\n",
        "    for i,money in enumerate(t):\n",
        "      m[i]=n//money\n",
        "      n=n%money\n",
        "      listnew[i]=m[i]\n",
        "      print(listnew)\n",
        "      \n",
        "      \n",
        "change(t,41)"
      ],
      "execution_count": null,
      "outputs": [
        {
          "output_type": "stream",
          "text": [
            "[1, 0, 0, 0]\n",
            "[1, 0, 0, 0]\n",
            "[1, 0, 3, 0]\n",
            "[1, 0, 3, 1]\n"
          ],
          "name": "stdout"
        }
      ]
    },
    {
      "cell_type": "markdown",
      "metadata": {
        "id": "I8GliVMDOSG8"
      },
      "source": [
        "第一題 貪婪法可自行輸入值"
      ]
    },
    {
      "cell_type": "code",
      "metadata": {
        "colab": {
          "base_uri": "https://localhost:8080/"
        },
        "id": "M8_C53JrOPlW",
        "outputId": "9a74fc50-d911-498a-8b73-2721da787a08"
      },
      "source": [
        "t=[25,20,5,1]\n",
        "listnew=[0,0,0,0]\n",
        "def change(t,n):\n",
        "    global listnew\n",
        "    m=[0 for _ in range(len(t))]\n",
        "    for i,money in enumerate(t):\n",
        "      m[i]=n//money\n",
        "      n=n%money\n",
        "      listnew[i]=m[i]\n",
        "      print(listnew)\n",
        "      \n",
        "print(\"請輸入任意值\")     \n",
        "change(t,int(input()))"
      ],
      "execution_count": null,
      "outputs": [
        {
          "output_type": "stream",
          "text": [
            "請輸入任意值\n",
            "65\n",
            "[2, 0, 0, 0]\n",
            "[2, 0, 0, 0]\n",
            "[2, 0, 3, 0]\n",
            "[2, 0, 3, 0]\n"
          ],
          "name": "stdout"
        }
      ]
    },
    {
      "cell_type": "markdown",
      "metadata": {
        "id": "9ivNZL_NUSD-"
      },
      "source": [
        "第一題 用動態規劃的方式"
      ]
    },
    {
      "cell_type": "code",
      "metadata": {
        "id": "WEig2b1JUSZ9",
        "colab": {
          "base_uri": "https://localhost:8080/"
        },
        "outputId": "bddbeac1-3ceb-4cc2-a1e4-73391479364e"
      },
      "source": [
        "def getMinCounts(k, values): # 求得最小的硬幣數量\n",
        "    memo = [-1] * (k + 1)\n",
        "    memo[0] = 0 # 初始化狀態\n",
        "    for item in range(1, k + 1):\n",
        "       memo[item] = k + 1\n",
        "   \n",
        "    for item in range(1, k + 1):\n",
        "        for coin in values:\n",
        "            if (item - coin < 0):\n",
        "                continue\n",
        "            memo[item] = min(memo[item], memo[item - coin] + 1) # 作出決策\n",
        "    print(memo[item]) \n",
        "\n",
        "t=[25,20,5,1]\n",
        "getMinCounts(41,t)\n",
        "\n",
        "\n"
      ],
      "execution_count": null,
      "outputs": [
        {
          "output_type": "stream",
          "text": [
            "3\n"
          ],
          "name": "stdout"
        }
      ]
    },
    {
      "cell_type": "markdown",
      "metadata": {
        "id": "NRc7SClDUUc9"
      },
      "source": [
        "第二題  偷東西 貪婪法"
      ]
    },
    {
      "cell_type": "code",
      "metadata": {
        "id": "ufxqdRoKUVxV",
        "colab": {
          "base_uri": "https://localhost:8080/"
        },
        "outputId": "fe567174-c671-4032-834f-ab571440de4a"
      },
      "source": [
        "\n",
        "values=[17000,35000,60000,9000,20000]\n",
        "weights=[5,1,4,3,2]\n",
        "numbers=5\n",
        "maxweight =10\n",
        "product=[\"ps5\",\"ipad pro 12\",\"macbppk pro 15\",\"homepod\",\"mac mini\"]\n",
        "arr = [(i,product[i],values[i]/weights[i],weights[i], values[i]) for i in range(len(weights))]\n",
        "arr.sort(key=lambda x:x[2], reverse=True)\n",
        "\n",
        "bagValues = 0\n",
        "baglist = []\n",
        "totalweight=0\n",
        "for b,product,w,weights,values in arr:\n",
        "    if totalweight <= maxweight:\n",
        "        totalweight=totalweight+weights\n",
        "        if totalweight <= maxweight:\n",
        "          bagValues += values\n",
        "          baglist.append(product)\n",
        "          \n",
        "        else:\n",
        "          totalweight=totalweight-weights\n",
        "       \n",
        "print('偷走總價值:',bagValues,'偷的東西有：',baglist)"
      ],
      "execution_count": 45,
      "outputs": [
        {
          "output_type": "stream",
          "text": [
            "偷走總價值: 124000 偷的東西有： ['ipad pro 12', 'macbppk pro 15', 'mac mini', 'homepod']\n"
          ],
          "name": "stdout"
        }
      ]
    },
    {
      "cell_type": "markdown",
      "metadata": {
        "id": "nD2i7mVOa1Lo"
      },
      "source": [
        "第二題 偷東西 動態規劃"
      ]
    },
    {
      "cell_type": "code",
      "metadata": {
        "colab": {
          "base_uri": "https://localhost:8080/"
        },
        "id": "7ofMA9xIDBt-",
        "outputId": "79ae8239-e393-4df3-ae1a-ffd0aa4b7c2a"
      },
      "source": [
        "n=4\n",
        "c=10\n",
        "import numpy as np\n",
        "x = np.zeros([n+1,c+1])\n",
        "for i in range(1,n+1):\n",
        "    for j in range(c,0,-1):\n",
        "        if j<weights[i]:\n",
        "            x[i,j] = x[i-1,j]\n",
        "        else:\n",
        "            x[i,j] = max(x[i-1,j],x[i-1,j-weights[i]]+values[i])\n",
        "\n",
        "item = [0]*(n+1)\n",
        "\n",
        "def find_which_item(i,j,item):\n",
        "    if i >=0:\n",
        "        if x[i,j] == x[i-1,j]:\n",
        "            item = find_which_item(i-1,j,item)\n",
        "        elif j-weights[i]>=0 and x[i,j] == x[i-1,j-weights[i]]+values[i]:\n",
        "            item[i] = 1\n",
        "            item = find_which_item(i-1,j-weights[i],item)\n",
        "    return item\n",
        "\n",
        "values=[17000,35000,60000,9000,20000]\n",
        "weights=[5,1,4,3,2]\n",
        "numbers=5\n",
        "maxweight=10\n",
        "product=[\"ps5\",\"ipad pro 12\",\"macbppk pro 15\",\"homepod\",\"mac mini\"]\n",
        "item = find_which_item(4,10,item)\n",
        "list1=[]\n",
        "totalvalues=0\n",
        "for i in range(1,6):\n",
        " if item[i-1]==1:\n",
        "  list1.append(product[i-1])\n",
        "  totalvalues=values[i-1]+totalvalues\n",
        "print(\"總金額\",totalvalues,\"偷的東西\",list1)\n",
        "  "
      ],
      "execution_count": 107,
      "outputs": [
        {
          "output_type": "stream",
          "text": [
            "總金額 124000 偷的東西 ['ipad pro 12', 'macbppk pro 15', 'homepod', 'mac mini']\n"
          ],
          "name": "stdout"
        }
      ]
    }
  ]
}